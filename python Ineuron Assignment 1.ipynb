{
 "cells": [
  {
   "cell_type": "markdown",
   "id": "ea214cb1",
   "metadata": {},
   "source": [
    "#### 1.\n",
    "Values are strings or integers that can be manipulated in python. e.g:\n",
    "\n",
    "‘Hello’,  -87.8, 6,\n",
    "While operators constitute the expressions in python\n",
    "\n",
    "the combination of operators (-, /, +, *) and operands make an expression"
   ]
  },
  {
   "cell_type": "markdown",
   "id": "679783d0",
   "metadata": {},
   "source": [
    "#### 2\n",
    "\n",
    "Strings in python are values in single, double or triple quotes, while variables are placeholders for any data type or expressions"
   ]
  },
  {
   "cell_type": "markdown",
   "id": "03faba1c",
   "metadata": {},
   "source": [
    "3. Integers are data types of whole numbers, lists are data types of mutable collections of elements, strings are data types enclosed in single, double, or triple quotes, dictionary are key-value pairs kind of collection, sets are unordered collections of different elements\n",
    "\n",
    "\n",
    "4. Expressions are made up of mathematical operators to perform certain operations\n",
    "\n",
    "5.bacon = 22\n",
    "Bacon +=1\n",
    "Bacon becomes 23\n",
    "\n",
    "6. In the first case ‘spam’ + ‘spamspam’, concantenation happens, ‘spam’ * 3 allows repetition\n",
    "\n",
    "7. A variable can not start with a keyword or a number, when you try to name a variable as a number the system sees it as mathematical number\n",
    "\n",
    "8. int(), float(), str()\n",
    "\n",
    "\n",
    "9 concatenation can happen between a string and an integer, it is therefore a good practice to avoid concatenation between string data types and integer data types, or cast the integer into a string by using str(()\n",
    "The expression can be written, ‘I have eaten’ + str(99) + ‘burritos’\n"
   ]
  },
  {
   "cell_type": "code",
   "execution_count": 2,
   "id": "12c52aa8",
   "metadata": {},
   "outputs": [
    {
     "name": "stdout",
     "output_type": "stream",
     "text": [
      "I have eaten 99 burritos\n"
     ]
    }
   ],
   "source": [
    "# for number 9\n",
    "\n",
    "a = \"I have eaten \"\n",
    "\n",
    "b = \" burritos\"\n",
    "\n",
    "c = a + str(99) + b\n",
    "\n",
    "print(c)"
   ]
  },
  {
   "cell_type": "code",
   "execution_count": null,
   "id": "49a37d8e",
   "metadata": {},
   "outputs": [],
   "source": []
  }
 ],
 "metadata": {
  "kernelspec": {
   "display_name": "Python 3 (ipykernel)",
   "language": "python",
   "name": "python3"
  },
  "language_info": {
   "codemirror_mode": {
    "name": "ipython",
    "version": 3
   },
   "file_extension": ".py",
   "mimetype": "text/x-python",
   "name": "python",
   "nbconvert_exporter": "python",
   "pygments_lexer": "ipython3",
   "version": "3.10.9"
  }
 },
 "nbformat": 4,
 "nbformat_minor": 5
}
